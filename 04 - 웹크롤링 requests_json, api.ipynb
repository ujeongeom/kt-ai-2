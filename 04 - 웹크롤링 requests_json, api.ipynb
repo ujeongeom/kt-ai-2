{
 "cells": [
  {
   "cell_type": "markdown",
   "id": "2758c6a6-da37-49dc-8dd9-605bcb478e0c",
   "metadata": {},
   "source": [
    "# Ⅰ Web Crawling\n",
    "## 1. 웹페이지 종류\n",
    "- **정적** 페이지 : 페이지의 데이터가 변경될 때 **URL이 변경 O** (ex. 페이지네이션)\n",
    "    - 웹 브라우져에 화면이 한번 뜨면 이벤트에 의한 화면의 변경이 없는 페이지\n",
    "    - HTML 포멧의 데이터 수집\n",
    "- **동적** 페이지 : 페이지의 데이터가 변경될 때 **URL이 변경 X** (ex. 더보기 버튼)\n",
    "    - 웹 브라우져에 화면이 뜨고 이벤트가 발생하면 서버에서 데이터를 가져와 화면을 변경하는 페이지\n",
    "    - JSON 포멧의 데이터 수집 (JSON ≒ Python의 dict)\n",
    "    \n",
    "## 2. requests package\n",
    "- 받아오는 문자열에 따라 2 가지 방법으로 구분\n",
    "    - **html 문자열**로 받아서 파싱하는 방법 : 주로 **정적 페이지** 크롤링할 때 사용\n",
    "    - **json 문자열**로 받아서 파싱하는 방법 : 주로 **동적 페이지** 크롤링할 때 사용\n",
    "- 브라우저의 URL을 입력하면 서버에서 데이터를 다운받아 화면에 출력 : URL -> DATA\n",
    "- requests 패키지 : URL 입력 -> DATA 받아오기\n",
    "\n",
    "## 3. selenium package\n",
    "- 브라우저를 직접 열어서 데이터를 받는 방법\n",
    "\n",
    "## 4. 크롤링 방법에 따른 속도\n",
    "- requests json > requests html > selenium"
   ]
  },
  {
   "cell_type": "markdown",
   "id": "723448f6-c773-4b40-86e4-2bb9d34152d7",
   "metadata": {},
   "source": [
    "-----------"
   ]
  },
  {
   "cell_type": "markdown",
   "id": "d5db235e-1b8a-4bba-a6ab-5a9a100982ee",
   "metadata": {},
   "source": [
    "## 5. Crwaling Naver Stock Datas\n",
    "- 네이버 증권 사이트에서 주가 데이터 수집\n",
    "- 수집할 데이터 : 일별 kospi, kosdaq 주가, 일별 환율(exchange rate) 데이터\n",
    "- 데이터 수집 절차\n",
    "    - 웹 서비스 분석 : url\n",
    "    - 서버에 데이터 요청 : request(url) -> response : json(str)\n",
    "    - 서버에서 받은 데이터 파싱(데이터 형태 변경) : json(str) -> list, dict -> DataFrame\n",
    "\n",
    "- 요소 탭 : 화면에 대한 정보가 HTML 코드로 적혀있음\n",
    "- 네트워크 탭 : 어떤 데어트를 가저오는지 알 수 있음\n",
    "    - url 확인 방법 : 클린 아이콘 클릭 -> 더보기 버튼 클릭 -> '이름' 클릭 -> url 확인(미리보기 탭에 있는 데이터를 가져오는 url)"
   ]
  },
  {
   "cell_type": "markdown",
   "id": "a1a099a4-9959-4c00-a75a-ca734e1b307e",
   "metadata": {},
   "source": [
    "## 1) Kospi 지수"
   ]
  },
  {
   "cell_type": "code",
   "execution_count": 2,
   "id": "e83da337-fe35-440a-86fe-4d62d736ae17",
   "metadata": {},
   "outputs": [],
   "source": [
    "import requests\n",
    "import pandas as pd"
   ]
  },
  {
   "cell_type": "markdown",
   "id": "b9cc4951-73e8-4b7e-80ac-0215f91b2a38",
   "metadata": {},
   "source": [
    "### ① 웹서비스 분석(url) : 크롬 개발자 도구 사용\n",
    "- PC 웹페이지가 복잡하면 mobile 웹페이지에서 수집 (Ctrl + Shift + I -> Ctrl + Shift + M)\n",
    "- 트래픽 발생 확인 가능"
   ]
  },
  {
   "cell_type": "code",
   "execution_count": 57,
   "id": "66d82210-eb92-4efb-a427-1baddb75260f",
   "metadata": {},
   "outputs": [],
   "source": [
    "url = 'https://m.stock.naver.com/api/index/KOSPI/price?pageSize=10&page=8'"
   ]
  },
  {
   "cell_type": "markdown",
   "id": "44b323f4-88b8-45db-ab8a-e9cd25eb5de9",
   "metadata": {},
   "source": [
    "### ② 서버에 데이터 요청 : request(url) -> response : JSON(str)\n",
    "- response의 status code가 200 인지 확인\n",
    "- 403이나 500이면 request가 잘못 됐거나 web server에서 수집이 안 되도록 설정된 것\n",
    "    - header 설정 또는 selenium 사용\n",
    "- 200 나와도 response 안에 있는 내용 확인\n",
    "    - 확인방법 : response.txt"
   ]
  },
  {
   "cell_type": "code",
   "execution_count": 75,
   "id": "fa8ce2eb-4593-4db7-aabf-171b48ef567e",
   "metadata": {},
   "outputs": [],
   "source": [
    "# 데이터를 서버쪽에 요청(requests) 후 받은(resopnse) 데이터를 response에 저장\n",
    "response = requests.get(url) # Shift + Tab하면 메소드 작성법 알 수 있음\n",
    "\n",
    "# 200 출력되는지 확인\n",
    "response \n",
    "\n",
    "# response 안에 내용 확인 : JSON(str) 데이터 (리스트 안에 딕셔너리)\n",
    "response.text[:200]"
   ]
  },
  {
   "cell_type": "markdown",
   "id": "08844691-1764-4852-97d3-a3c951be9d93",
   "metadata": {},
   "source": [
    "### ③ 서버에서 받은 데이터 파싱(데이터 형태 변경)\n",
    "- json(str) -> list, dict -> DataFrame"
   ]
  },
  {
   "cell_type": "code",
   "execution_count": 59,
   "id": "407e0248-baba-4875-8fe2-e84c48529cb3",
   "metadata": {},
   "outputs": [],
   "source": [
    "# JSON(str) -> list 변환 (리스트 안에 딕셔너리가 있음)\n",
    "kospi_data = response.json()\n",
    "\n",
    "# 딕셔너리 데이터가 로그 데이터가 되어 데이터프레임으로 변환\n",
    "kospi = pd.DataFrame(data)[['localTradedAt', 'closePrice']]"
   ]
  },
  {
   "cell_type": "markdown",
   "id": "d4027cc3-e3a3-4a2d-ae3a-e40c0758d6ff",
   "metadata": {},
   "source": [
    "### ④ 함수 만들기\n",
    "* parmas : pasgesize, page"
   ]
  },
  {
   "cell_type": "code",
   "execution_count": 27,
   "id": "8eb6830c-6ab8-4332-b3fa-25fdd10d7361",
   "metadata": {},
   "outputs": [],
   "source": [
    "def stock_price1(pagesize, page):\n",
    "    url = f'https://m.stock.naver.com/api/index/KOSPI/price?pageSize={pagesize}&page={page}'\n",
    "    response = requests.get(url)\n",
    "    data = response.json()\n",
    "    return pd.DataFrame(data)[['localTradedAt', 'closePrice']]"
   ]
  },
  {
   "cell_type": "markdown",
   "id": "9ecff844-0d61-47f0-9a5a-4890a42ff777",
   "metadata": {},
   "source": [
    "## 2) Kosdaq 지수"
   ]
  },
  {
   "cell_type": "code",
   "execution_count": null,
   "id": "be435c2b-c2e5-43f7-93fc-0ed1375c3ed5",
   "metadata": {},
   "outputs": [],
   "source": [
    "#1. 웹서비스 분석 : URL\n",
    "kosdaq_url = 'https://m.stock.naver.com/api/index/KOSDAQ/price?pageSize=10&page=2'\n",
    "\n",
    "#2. request(url) -> response(json) : JSON(str)\n",
    "kosdaq_response = requests.get(kosdaq_url)\n",
    "\n",
    "#3. JSON(str) -> list, dict -> DataFrame\n",
    "kosdaq_data = kosdaq_response.json()\n",
    "kosdaq = pd.DataFrame(kosdaq_data)[['localTradedAt', 'closePrice']]\n",
    "kosdaq.tail()"
   ]
  },
  {
   "cell_type": "code",
   "execution_count": 61,
   "id": "36002017-8391-430b-b36d-0d2d97c6f850",
   "metadata": {},
   "outputs": [],
   "source": [
    "#4. 함수 만들기 (parmas : pasgesize, page, code)\n",
    "# def stock_price(pagesize, page, code = 'KOSPI') : code값을 따로 설정하지 않으면 KOSPI로 작동\n",
    "def stock_price(pagesize, page, code):\n",
    "    \"\"\"This function is crawling stock price from naver webpage\n",
    "    \n",
    "    Parmas\n",
    "    ------\n",
    "    pagesize : int : one page size\n",
    "    page : int : page number\n",
    "    code : str : KOSPI or KOSDAQ\n",
    "    \n",
    "    Return\n",
    "    ------\n",
    "    type : DataFrame : display data, price columns\n",
    "    \"\"\"\n",
    "    \n",
    "    url = f'https://m.stock.naver.com/api/index/{code}/price?pageSize={pagesize}&page={page}'\n",
    "    response = requests.get(url)\n",
    "    data = response.json()\n",
    "    return pd.DataFrame(data)[['localTradedAt', 'closePrice']]"
   ]
  },
  {
   "cell_type": "code",
   "execution_count": 43,
   "id": "43bcad58-f763-4fc4-9105-2d964e53917d",
   "metadata": {},
   "outputs": [],
   "source": [
    "#5. dostring : 함수를 사용하는 방법을 문자열로 작성\n",
    "# help(), shift + tab 이용\n",
    "help(stock_price)"
   ]
  },
  {
   "cell_type": "markdown",
   "id": "e872be93-c695-4112-8d06-81d108c6cc46",
   "metadata": {},
   "source": [
    "## 3) USD : 원달러 환율\n",
    "* 최근 60일치 원달러 환율 데이터 수집"
   ]
  },
  {
   "cell_type": "code",
   "execution_count": 94,
   "id": "5a391494-b1b7-4333-a638-1e9dc2aa3f0c",
   "metadata": {},
   "outputs": [],
   "source": [
    "# 몇 번째(page), 몇 개(pageSize)의 데이터를 갖는 url\n",
    "page, pagesize = 1, 60\n",
    "usd_url = f'https://api.stock.naver.com/marketindex/exchange/FX_USDKRW/prices?page={page}&pageSize={pagesize}'\n",
    "\n",
    "#2. request(url) -> respone(json) : JSON(str)\n",
    "usd_response = requests.get(usd_url)\n",
    "\n",
    "#3. JSON(str) -> list, dict -> DataFrame\n",
    "usd_data = usd_response.json()\n",
    "usd = pd.DataFrame(usd_data)[['localTradedAt', 'closePrice']]\n",
    "usd.tail(2)"
   ]
  },
  {
   "cell_type": "markdown",
   "id": "cd947456-51a2-4a1e-bb09-b37ec2b79ace",
   "metadata": {},
   "source": [
    "## 4) EUR : 원유로 환율\n",
    "* 최근 60일치 원달러 환율 데이터 수집"
   ]
  },
  {
   "cell_type": "code",
   "execution_count": 95,
   "id": "ff404611-2b2b-4f68-93cf-b0447c786e79",
   "metadata": {},
   "outputs": [],
   "source": [
    "page, pagesize = 1, 60\n",
    "eur_url = f'https://api.stock.naver.com/marketindex/exchange/FX_EURKRW/prices?page={page}&pageSize={pagesize}'\n",
    "eur_response = requests.get(eur_url)\n",
    "eur_data = eur_response.json()\n",
    "eur = pd.DataFrame(eur_data)[['localTradedAt', 'closePrice']]\n",
    "eur.tail(2)"
   ]
  },
  {
   "cell_type": "markdown",
   "id": "6764fd56-e22e-4437-9506-96520414b755",
   "metadata": {},
   "source": [
    "-----------"
   ]
  },
  {
   "cell_type": "markdown",
   "id": "553ed331-9ffd-4279-afc2-271f5ea47ebc",
   "metadata": {},
   "source": [
    "## 6. 데이터 분석\n",
    "## 1) 상관관계분석\n",
    "- 두 데이터 집합 사이에 어떤 관계가 있는지 확인하는 분석 방법\n",
    "- **피어슨 상관계수 : df.corr()**\n",
    "    - 두 데이터 집합의 상관도를 분석할 때 사용되는 지표\n",
    "    * 1과 가까울수록 강한 양의 상관관계\n",
    "    * -1과 가까울수록 강한 음의 상관관계\n",
    "    * 0과 가까울수록 관계가 없음"
   ]
  },
  {
   "cell_type": "markdown",
   "id": "19bd94fc-6ce9-4727-b22f-e2a0b1879a3e",
   "metadata": {},
   "source": [
    "### ① 데이터 전처리★"
   ]
  },
  {
   "cell_type": "code",
   "execution_count": 76,
   "id": "f284ffcb-c424-4ceb-82e7-6d371e43ddd9",
   "metadata": {},
   "outputs": [],
   "source": [
    "df = kospi.copy()\n",
    "df['kosdaq'] = kosdaq['closePrice']\n",
    "df['usd'] = usd['closePrice']\n",
    "df = df.rename(columns = {'closePrice' : 'kospi'})"
   ]
  },
  {
   "cell_type": "markdown",
   "id": "516bf706-84f3-401b-a76f-01fce161f93b",
   "metadata": {},
   "source": [
    "### ② 컬럼의 데이터 타입 변경 (str -> float)\n",
    "* df[column].apply() : 모든 데이터를 함수에 대입한 결과를 출력"
   ]
  },
  {
   "cell_type": "code",
   "execution_count": 96,
   "id": "68dd3af4-bbb7-4194-a8b1-e0a151ef2258",
   "metadata": {},
   "outputs": [],
   "source": [
    "df['kospi'] = df['kospi'].apply(lambda data: float(data.replace(',','')))\n",
    "df['kosdaq'] = df['kosdaq'].apply(lambda data: float(data.replace(',','')))\n",
    "df['usd'] = df['usd'].apply(lambda data: float(data.replace(',','')))\n",
    "df.dtypes\n",
    "\n",
    "#추가 방법 : pd.to_numeric()"
   ]
  },
  {
   "cell_type": "markdown",
   "id": "e1b68bab-da6b-43e8-93c2-7d58c8f2a3f8",
   "metadata": {},
   "source": [
    "### ③ 피어슨 상관계수"
   ]
  },
  {
   "cell_type": "code",
   "execution_count": 74,
   "id": "a983b091-bc52-4012-b97c-6c415c48dd01",
   "metadata": {},
   "outputs": [
    {
     "data": {
      "text/html": [
       "<div>\n",
       "<style scoped>\n",
       "    .dataframe tbody tr th:only-of-type {\n",
       "        vertical-align: middle;\n",
       "    }\n",
       "\n",
       "    .dataframe tbody tr th {\n",
       "        vertical-align: top;\n",
       "    }\n",
       "\n",
       "    .dataframe thead th {\n",
       "        text-align: right;\n",
       "    }\n",
       "</style>\n",
       "<table border=\"1\" class=\"dataframe\">\n",
       "  <thead>\n",
       "    <tr style=\"text-align: right;\">\n",
       "      <th></th>\n",
       "      <th>kospi</th>\n",
       "      <th>kosdaq</th>\n",
       "      <th>usd</th>\n",
       "    </tr>\n",
       "  </thead>\n",
       "  <tbody>\n",
       "    <tr>\n",
       "      <th>kospi</th>\n",
       "      <td>1.000000</td>\n",
       "      <td>0.984086</td>\n",
       "      <td>-0.878571</td>\n",
       "    </tr>\n",
       "    <tr>\n",
       "      <th>kosdaq</th>\n",
       "      <td>0.984086</td>\n",
       "      <td>1.000000</td>\n",
       "      <td>-0.821812</td>\n",
       "    </tr>\n",
       "    <tr>\n",
       "      <th>usd</th>\n",
       "      <td>-0.878571</td>\n",
       "      <td>-0.821812</td>\n",
       "      <td>1.000000</td>\n",
       "    </tr>\n",
       "  </tbody>\n",
       "</table>\n",
       "</div>"
      ],
      "text/plain": [
       "           kospi    kosdaq       usd\n",
       "kospi   1.000000  0.984086 -0.878571\n",
       "kosdaq  0.984086  1.000000 -0.821812\n",
       "usd    -0.878571 -0.821812  1.000000"
      ]
     },
     "execution_count": 74,
     "metadata": {},
     "output_type": "execute_result"
    }
   ],
   "source": [
    "df[['kospi','kosdaq','usd']].corr()"
   ]
  },
  {
   "cell_type": "markdown",
   "id": "51dcb9c6-320e-48cc-857b-ee737b3aa5fa",
   "metadata": {},
   "source": [
    "### ④ 결과\n",
    "* kospi - kosdaq : 0.984 : 1과 가까우면 강한 양의 상관관계\n",
    "* kospi - usd : -0.878 : -1과 가까우면 강한 음의 상관관계 (인사이트 : kospi 주식을 사는 것이 낫다)"
   ]
  },
  {
   "cell_type": "markdown",
   "id": "c9dd89c7-3cb7-4f2e-98f3-9edbae42e97e",
   "metadata": {},
   "source": [
    "----------------------------------------------------------------------------------------------------"
   ]
  },
  {
   "cell_type": "markdown",
   "id": "20273cb8-b986-4ed8-8296-f8386940a6b0",
   "metadata": {},
   "source": [
    "## 7. 추가 학습\n",
    "### 1) copy() : 값복사\n",
    "* 배열, 데이터프레임일 때 사용 가능\n",
    "* 2차원 이상의 배열에서 copy 쓰면 아마 내부에 리스트는 얕은 복사가 될 것\n",
    "* 안의 라시트도 복사해주려면 deepcopy 써야될 것"
   ]
  },
  {
   "cell_type": "code",
   "execution_count": 97,
   "id": "cff73c90-fc9a-44bc-9f51-9c728fb867df",
   "metadata": {},
   "outputs": [],
   "source": [
    "data1 = [1, 2, 3] # [1,2,3]의 주소값을 data1이 갖게 함(참조시킴)\n",
    "\n",
    "# 얕은복사(call by reference) : 주소값 복사\n",
    "data2 = data1 # data1의 주소값 -> data2\n",
    "\n",
    "# 깊은복사(call by value) : 값복사\n",
    "data3 = data1.copy() # [1,2,3] 값을 만들고, 주소값을 새로 만든 후 새 주소값을 data3가 갖게 함. \n",
    "print(data1, data2, data3) # [1, 2, 3], [1, 2, 3], [1, 2, 3]\n",
    "\n",
    "data1[1] = 4 # data1, data2가 갖는 메모리 주소가 같기에 둘다 바뀜 (원본 손상)\n",
    "print(data1, data2, data3) # [1, 4, 3], [1, 4, 3], [1, 2, 3]"
   ]
  },
  {
   "cell_type": "markdown",
   "id": "3d79f898-ba36-49d3-ba64-331c5b6b3cd6",
   "metadata": {},
   "source": [
    "### 2) apply(func) : 모든 데이터를 func 적용시킨 결과 출력"
   ]
  },
  {
   "cell_type": "code",
   "execution_count": 98,
   "id": "9ea43f03-45a4-4502-aeab-6ea2d9e808b6",
   "metadata": {},
   "outputs": [],
   "source": [
    "# 데이터프레임 생성\n",
    "df = pd.DataFrame([{'age':23}, {'age':36}, {'age': 27}])\n",
    "\n",
    "# 연령대 변환 함수 생성\n",
    "def change_ages(age):\n",
    "    return age // 10 * 10\n",
    "\n",
    "# 연령대 컬럼 추가\n",
    "df['ages'] = df['age'].apply(change_ages)\n",
    "df"
   ]
  },
  {
   "cell_type": "markdown",
   "id": "3e210b3b-1f38-405e-9671-9289069987b6",
   "metadata": {},
   "source": [
    "### 3) lambda : 일회성 함수\n",
    "* 파라미터 받아서 바로 리턴\n",
    "* argument에서 바로 사용하는 용도로 쓰임\n",
    "* 사용 이유 : 메모리 절약 및 빠른 속도\n",
    "* lambda 사용법 : **lambda 파라미터: return 값**"
   ]
  },
  {
   "cell_type": "code",
   "execution_count": 99,
   "id": "cd1bbae3-bf31-4c35-9b9a-132c7b5dc244",
   "metadata": {},
   "outputs": [],
   "source": [
    "# 함수 3개 생성 (= 메모리 3칸 사용)\n",
    "def plus(n1, n2):\n",
    "    return n1 + n2\n",
    "\n",
    "def minus(n1, n2):\n",
    "    return n1 - n2\n",
    "\n",
    "def calc(func, n1, n2):\n",
    "    return func(n1, n2)\n",
    "\n",
    "# 생성한 함수 vs lambda\n",
    "print(calc(plus, 1, 2), calc(minus, 1, 2))\n",
    "print(calc(lambda n1, n2: n1 + n2, 1, 2), calc(lambda n1, n2:n1 - n2, 1, 2))\n",
    "\n",
    "# 생성한 함수 vs lambda\n",
    "plus_lambda = lambda n1, n2: n1 + n2\n",
    "print(plus(2, 3), plus_lambda(2, 3))"
   ]
  },
  {
   "cell_type": "markdown",
   "id": "601b902e-fb2e-409d-917b-53aac1db7964",
   "metadata": {},
   "source": [
    "---------\n",
    "---------"
   ]
  },
  {
   "cell_type": "markdown",
   "id": "c2060e71-bcf2-428b-aeff-c21afa6e95b4",
   "metadata": {},
   "source": [
    "## 8. 요약\n",
    "### 1) 웹페이지 종류\n",
    "- 정적페이지 : 데이터가 변경될때 URL 변경 O : HTML\n",
    "- 동적페이지 : 데이터가 변경될때 URL 변경 X : JSON\n",
    "\n",
    "### 2) 웹크롤링 절차\n",
    "    ① 웹서비스 분석(URL) : 크롬 개발자 도구 사용<br>\n",
    "    ② requests(url) > response(json) : JSON(str) 형태로 수집\n",
    "        - 정적페이지 경우, response(html)\n",
    "    ③ JSON(str) > list, dict > DataFrame : 형태 변환\n",
    "\n",
    "### 3) 데이터 분석\n",
    "    ① 데이터 전처리  \n",
    "    ② 상관관계분석 : 피어슨 상관계수"
   ]
  },
  {
   "cell_type": "markdown",
   "id": "ba1c8faa-8e4d-46af-afec-bf4e3a2aa637",
   "metadata": {},
   "source": [
    "----"
   ]
  },
  {
   "cell_type": "markdown",
   "id": "3f8d85f8-e268-4f4c-9e47-94b26a73370a",
   "metadata": {},
   "source": [
    "# Ⅱ API\n",
    "- Application Programing Interface\n",
    "- API 를 사용해서 데이터를 수집하는 것은 서비스에 데이터를 제공하는 공식적인 방법으로 데이터 수집\n",
    "\n",
    "## 1. API 절차\n",
    "1. APP 등록\n",
    "2. APP Key 받아오기 (유저 판별을 위해)\n",
    "3. URL에 APP Key를 넣기\n",
    "4. 데이터 보내기 : request -> response(JSON)"
   ]
  },
  {
   "cell_type": "markdown",
   "id": "5e26aaaf-6310-4789-a1d5-36835ec64d4b",
   "metadata": {},
   "source": [
    "## 2. Naver Rest API : papago api : 번역 서비스\n",
    "* 파파고 번역 api\n",
    "* 통합검색어 트렌드 api"
   ]
  },
  {
   "cell_type": "code",
   "execution_count": 4,
   "id": "c3eed3c2-2eaa-44bc-ac39-efb4f1d788d3",
   "metadata": {},
   "outputs": [],
   "source": [
    "import requests, json\n",
    "import pandas as pd"
   ]
  },
  {
   "cell_type": "markdown",
   "id": "fb19e5dc-7492-4aaa-9283-5d3b26bda25d",
   "metadata": {},
   "source": [
    "### ① request token 얻기\n",
    "1. https://developers.naver.com 접속 후 로그인\n",
    "2. Request Token 얻기 : 애플리케이션등록 -> app_key 획득 (앱키 없으면 패스워드 없이 보내는 것, 거부당함)\n",
    "3. app_key를 이용해서 데이터 가져오기"
   ]
  },
  {
   "cell_type": "code",
   "execution_count": 8,
   "id": "8b89d0ae-d516-4a74-80fa-ef513f303ecc",
   "metadata": {},
   "outputs": [],
   "source": [
    "CLIENT_ID, CLIENT_SECRET = \"비\", \"밀\""
   ]
  },
  {
   "cell_type": "markdown",
   "id": "7b5088ee-b2a6-44ce-b937-d2b7294637ba",
   "metadata": {},
   "source": [
    "### ② Naver API Document 확인 > URL\n",
    "- Documents > Papago 번역 > API 레퍼런스 > 요청 URL 복사"
   ]
  },
  {
   "cell_type": "code",
   "execution_count": 9,
   "id": "8b5003bc-495a-460e-ac48-27524a0a01b7",
   "metadata": {},
   "outputs": [],
   "source": [
    "txt = '파이썬은 재미있다.'\n",
    "url = 'https://openapi.naver.com/v1/papago/n2mt'\n",
    "\n",
    "# url 파라미터 설정\n",
    "params = {'source' : 'ko', 'target' : 'en', 'text' : txt}\n",
    "\n",
    "# app_key 값은 header에 저장 (웹페이지의 요청 예에서 -H는 header의 약자, -D는 data의 약자)\n",
    "headers = {\n",
    "    'Content-Type' : 'application/json', \n",
    "    'X-Naver-Client-Id' : CLIENT_ID,\n",
    "    'X-Naver-Client-Secret' : CLIENT_SECRET\n",
    "}"
   ]
  },
  {
   "cell_type": "markdown",
   "id": "15308504-4dab-4ce4-a297-e7bab5c360a2",
   "metadata": {},
   "source": [
    "### ③ request(url, app_key) > response(json) : JSON(str)\n",
    "- json.dumps()\n",
    "    - 인터넷 트래픽에서는 영문, 숫자, 특수문자만 사용 가능\n",
    "    - 한글과 같은 문자를 영문, 숫자, 특수문자로 인코딩"
   ]
  },
  {
   "cell_type": "code",
   "execution_count": 50,
   "id": "72957de6-c366-4961-84ad-a3c90351a66b",
   "metadata": {},
   "outputs": [],
   "source": [
    "response = requests.post(url, json.dumps(params), headers = headers)\n",
    "response"
   ]
  },
  {
   "cell_type": "code",
   "execution_count": 49,
   "id": "69b2fb06-d380-435b-9738-f328fa94bfdb",
   "metadata": {},
   "outputs": [],
   "source": [
    "response.text"
   ]
  },
  {
   "cell_type": "markdown",
   "id": "e119c631-60f2-4baa-b79c-04d8d0523fb9",
   "metadata": {},
   "source": [
    "### ④ JSON(str) > list, dict > str \n",
    "- 데이터가 여러 개가 아니므로 DataFrame 아닌 str로 변환"
   ]
  },
  {
   "cell_type": "code",
   "execution_count": 46,
   "id": "e6f21eb8-c9d7-4f5b-a8c1-e4be47d8859a",
   "metadata": {},
   "outputs": [],
   "source": [
    "ko_to_en = response.json()['message']['result']['translatedText'] # dict 형태로 변환\n",
    "ko_to_en"
   ]
  },
  {
   "cell_type": "markdown",
   "id": "758b5fc7-0980-46bb-bb91-c3e1df63f9c6",
   "metadata": {},
   "source": [
    "### ⑤ 함수로 만들기"
   ]
  },
  {
   "cell_type": "code",
   "execution_count": 33,
   "id": "5befff12-0304-4fef-9026-39d3a392e48b",
   "metadata": {},
   "outputs": [],
   "source": [
    "def translate(txt):\n",
    "    CLIENT_ID, CLIENT_SECRET = \"비\", \"밀\"\n",
    "    url = 'https://openapi.naver.com/v1/papago/n2mt'\n",
    "    params = {'source' : 'ko', 'target' : 'en', 'text' : txt}\n",
    "    headers = {\n",
    "        'Content-Type' : 'application/json', \n",
    "        'X-Naver-Client-Id' : CLIENT_ID, \n",
    "        'X-Naver-Client-Secret' : CLIENT_SECRET\n",
    "    }\n",
    "    response = requests.post(url, json.dumps(params), headers = headers)\n",
    "    \n",
    "    return response.json()['message']['result']['translatedText']\n",
    "\n",
    "# txt = '웹크롤링은 재밌다.'\n",
    "# ko_to_en = translate(txt)\n",
    "# ko_to_en"
   ]
  },
  {
   "cell_type": "markdown",
   "id": "0d26a90e-75d2-4092-b06a-caad9047641b",
   "metadata": {},
   "source": [
    "### ⑥ 한글 Excel 파일을 영문 Excel 파일로 변경"
   ]
  },
  {
   "cell_type": "code",
   "execution_count": 47,
   "id": "d1cfff77-b0ca-41a3-b248-035db4cc1014",
   "metadata": {},
   "outputs": [],
   "source": [
    "%ls # 주피터 노트북에서 제공하는 기능 : 현재 디렉토리에서의 파일 보여줌"
   ]
  },
  {
   "cell_type": "code",
   "execution_count": 38,
   "id": "0dcfeb8e-ebc9-4add-a62f-cb656f81f3be",
   "metadata": {},
   "outputs": [],
   "source": [
    "covid = pd.read_excel('covid.xlsx')[['category', 'title']]\n",
    "covid['title_en'] = covid['title'].apply(translate)\n",
    "\n",
    "# utf-8-sig : excel 에서 사용하는 인코딩 방식과 호환되는 utf-8 인코딩 방식\n",
    "covid.to_excel('covid_en.xlsx', index = False, encoding = 'utf-8-sig')"
   ]
  },
  {
   "cell_type": "markdown",
   "id": "3067ee6f-d0b7-4753-87bc-f12fd9a8bd84",
   "metadata": {},
   "source": [
    "## 3. 추가 학습\n",
    "### 1) 인코딩 \n",
    "- encoding : 'a' -> 0001\n",
    "- decoding : 0001 -> 'a'\n",
    "- decoding 할 때, encoding 방식과 동일하게 해야 '쀅쀅?<>' 이런 이상한 문자가 나오지 않음"
   ]
  },
  {
   "cell_type": "markdown",
   "id": "eaaa8fc4-b731-4395-a37f-9de8fe1bd474",
   "metadata": {},
   "source": [
    "- ascii(한글:4byte) : 영문, 숫자, 특수문자 표현\n",
    "- euckr(한글:8byte)\n",
    "- utf8(한글:16byte) : 모든 나라의 언어를 표현(지금은 하드웨어 발전으로 utf8을 사용하면 됨)\n",
    "    - utf-8-sig : sig를 붙혀야 엑셀에서 글자가 깨지지 않음"
   ]
  },
  {
   "cell_type": "markdown",
   "id": "9de78805-323e-46b0-9190-4af202d7eb17",
   "metadata": {},
   "source": [
    "### 2) 함수 : Scope\n",
    "- 변수 선언할 때 함수 밖에서 선언하는 것과 함수 안에서 선언하는 변수의 메모리 저장공간이 다름\n",
    "- 전역(global)영역 : 함수 밖의 영역\n",
    "- 지역(local)영역 : 함수 안의 영역\n",
    "- global : 지역영역에서 전역영역의 변수를 가져올 때의 명령어"
   ]
  },
  {
   "cell_type": "code",
   "execution_count": 48,
   "id": "359998c3-1dd4-41c2-a159-cb74e44976ce",
   "metadata": {},
   "outputs": [],
   "source": [
    "data = 10\n",
    "\n",
    "def change1():\n",
    "    data = 20\n",
    "\n",
    "change1()\n",
    "print(data) # 10\n",
    "\n",
    "def change2():\n",
    "    global data\n",
    "    data = 20\n",
    "\n",
    "change2()\n",
    "print(data) # 20"
   ]
  },
  {
   "cell_type": "markdown",
   "id": "bf25aaf7-31bd-4cb3-9f1c-fc4123f146b6",
   "metadata": {},
   "source": [
    "# 4. 실습과제\n",
    "- https://finance.daum.net/exchanges\n",
    "- headers : referer, user-agent 설정"
   ]
  },
  {
   "cell_type": "code",
   "execution_count": null,
   "id": "1a7f4bcd-7b0e-49cb-9953-53a7a59c2614",
   "metadata": {},
   "outputs": [],
   "source": []
  }
 ],
 "metadata": {
  "kernelspec": {
   "display_name": "Python 3",
   "language": "python",
   "name": "python3"
  },
  "language_info": {
   "codemirror_mode": {
    "name": "ipython",
    "version": 3
   },
   "file_extension": ".py",
   "mimetype": "text/x-python",
   "name": "python",
   "nbconvert_exporter": "python",
   "pygments_lexer": "ipython3",
   "version": "3.8.8"
  }
 },
 "nbformat": 4,
 "nbformat_minor": 5
}
