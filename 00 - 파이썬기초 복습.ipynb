{
 "cells": [
  {
   "cell_type": "markdown",
   "metadata": {
    "id": "BFhIXgdYoYGp"
   },
   "source": [
    "# 00. 파이썬기초 복습"
   ]
  },
  {
   "cell_type": "markdown",
   "metadata": {
    "id": "zAt73WbLVkBh"
   },
   "source": [
    "1) range()를 사용하여, 100이하의 수 중, 7의 배수를 리스트 a 에 담으시오.  "
   ]
  },
  {
   "cell_type": "code",
   "execution_count": 34,
   "metadata": {
    "id": "vkK6pHxZPLRc"
   },
   "outputs": [
    {
     "data": {
      "text/plain": [
       "[7, 14, 21, 28, 35, 42, 49, 56, 63, 70, 77, 84, 91, 98]"
      ]
     },
     "execution_count": 34,
     "metadata": {},
     "output_type": "execute_result"
    }
   ],
   "source": [
    "# a = []\n",
    "# for i in range(1, 101):\n",
    "#     if i % 7 == 0:\n",
    "#         a.append(i)\n",
    "\n",
    "# print(a) \n",
    "\n",
    "a = list(range(7,101,7))\n",
    "a # 주피터에서는 print 안 써도 됨"
   ]
  },
  {
   "cell_type": "markdown",
   "metadata": {
    "id": "Qgti38DEVkZp"
   },
   "source": [
    "2) a에서 인덱스 4~ 7까지 조회하시오."
   ]
  },
  {
   "cell_type": "code",
   "execution_count": 33,
   "metadata": {
    "id": "GUVp68uHYCW4"
   },
   "outputs": [
    {
     "data": {
      "text/plain": [
       "[35, 42, 49, 56]"
      ]
     },
     "execution_count": 33,
     "metadata": {},
     "output_type": "execute_result"
    }
   ],
   "source": [
    "# for i in range(4,8):\n",
    "#     print(a[i])\n",
    "    \n",
    "a[4:8]"
   ]
  },
  {
   "cell_type": "markdown",
   "metadata": {
    "id": "-bV36ehSV5Va"
   },
   "source": [
    "3) a에서, 끝에서 세번째 값을 조회하시오."
   ]
  },
  {
   "cell_type": "code",
   "execution_count": 4,
   "metadata": {
    "id": "7F7TSz1lVjpC"
   },
   "outputs": [
    {
     "name": "stdout",
     "output_type": "stream",
     "text": [
      "84\n"
     ]
    }
   ],
   "source": [
    "a[-3]"
   ]
  },
  {
   "cell_type": "markdown",
   "metadata": {
    "id": "DawMpmAuWBxB"
   },
   "source": [
    "4) a에 데이터 갯수(길이)는?"
   ]
  },
  {
   "cell_type": "code",
   "execution_count": 5,
   "metadata": {
    "id": "b9p5iNbRVjmR"
   },
   "outputs": [
    {
     "name": "stdout",
     "output_type": "stream",
     "text": [
      "14\n"
     ]
    }
   ],
   "source": [
    "print(len(a))"
   ]
  },
  {
   "cell_type": "markdown",
   "metadata": {
    "id": "TCKZzGQa_Tnb"
   },
   "source": [
    "5) a 값들의 합과 평균을 구하시오."
   ]
  },
  {
   "cell_type": "code",
   "execution_count": 9,
   "metadata": {
    "id": "Bk6duuvY_Yei"
   },
   "outputs": [
    {
     "name": "stdout",
     "output_type": "stream",
     "text": [
      "735\n",
      "52.5\n"
     ]
    }
   ],
   "source": [
    "print(sum(a))\n",
    "print(sum(a)/len(a))"
   ]
  },
  {
   "cell_type": "markdown",
   "metadata": {
    "id": "LcKh8Vh9WXXs"
   },
   "source": [
    "6) 반복문을 이용하여 100이하의 소수(prime number)를 리스트에 담아 봅시다.\n",
    "* 소수(prime number) : 약수가 오직 1과 자기자신 만 존재하는 수. "
   ]
  },
  {
   "cell_type": "code",
   "execution_count": 18,
   "metadata": {
    "id": "62qfCsxsVjgS"
   },
   "outputs": [
    {
     "name": "stdout",
     "output_type": "stream",
     "text": [
      "[2, 3, 5, 7, 11, 13, 17, 19, 23, 29, 31, 37, 41, 43, 47, 53, 59, 61, 67, 71, 73, 79, 83, 89, 97]\n"
     ]
    }
   ],
   "source": [
    "prime_num = []\n",
    "for i in range(2,101):\n",
    "    cnt = 0 # 약수가 몇 개인지\n",
    "    for j in range(2, i//2+1):\n",
    "        if i % j == 0: # 약수라면\n",
    "            cnt += 1\n",
    "    if cnt == 0:\n",
    "        prime_num.append(i)\n",
    "print(prime_num)"
   ]
  },
  {
   "cell_type": "markdown",
   "metadata": {
    "id": "7emtv8XYXW1Z"
   },
   "source": [
    "7) 아래 값으로 딕셔너리 d를 생성해 봅시다.\n",
    "\n",
    "|key | value|\n",
    "|----|----|\n",
    "|v1 | [1,2,3]|\n",
    "|v2 | {'a':23, 'b':[4,5]}|\n",
    "\n"
   ]
  },
  {
   "cell_type": "code",
   "execution_count": 20,
   "metadata": {
    "id": "TS98pEKWXWjR"
   },
   "outputs": [
    {
     "name": "stdout",
     "output_type": "stream",
     "text": [
      "{'v1': [1, 2, 3], 'v2': {'a': 23, 'b': [4, 5]}}\n"
     ]
    }
   ],
   "source": [
    "d = {'v1': [1,2,3], 'v2':{'a':23,'b':[4,5]}} #딕셔너리: 다양한 자료형을 하나로 묶은 것 / 만드는 것보다 꺼내서 사용할 일이 많음\n",
    "print(d)"
   ]
  },
  {
   "cell_type": "markdown",
   "metadata": {
    "id": "IjiAQmdUXWap"
   },
   "source": [
    "8) d에서 [1,2,3]을 출력해 봅시다."
   ]
  },
  {
   "cell_type": "code",
   "execution_count": 23,
   "metadata": {
    "id": "z4RaaUBsXw2p"
   },
   "outputs": [
    {
     "name": "stdout",
     "output_type": "stream",
     "text": [
      "[1, 2, 3]\n"
     ]
    }
   ],
   "source": [
    "print(d['v1'])"
   ]
  },
  {
   "cell_type": "markdown",
   "metadata": {
    "id": "wdwyaB2IXV_J"
   },
   "source": [
    "9) d에서 23을 출력해 봅시다."
   ]
  },
  {
   "cell_type": "code",
   "execution_count": 24,
   "metadata": {
    "id": "DYEB5fuTX3UH"
   },
   "outputs": [
    {
     "name": "stdout",
     "output_type": "stream",
     "text": [
      "23\n"
     ]
    }
   ],
   "source": [
    "print(d['v2']['a'])"
   ]
  },
  {
   "cell_type": "markdown",
   "metadata": {
    "id": "aG6yjO1wX4B5"
   },
   "source": [
    "10) d에서 5를 출력해봅시다."
   ]
  },
  {
   "cell_type": "code",
   "execution_count": 25,
   "metadata": {
    "id": "0TYAb7WPX4qS"
   },
   "outputs": [
    {
     "name": "stdout",
     "output_type": "stream",
     "text": [
      "5\n"
     ]
    }
   ],
   "source": [
    "print(d['v2']['b'][1])"
   ]
  },
  {
   "cell_type": "markdown",
   "metadata": {
    "id": "ES1kG2HCADx9"
   },
   "source": [
    "11) d에 key 'newKey' , value (1,2) 를 추가하고 출력해봅시다."
   ]
  },
  {
   "cell_type": "code",
   "execution_count": 26,
   "metadata": {
    "id": "_otugN4jADyQ"
   },
   "outputs": [
    {
     "name": "stdout",
     "output_type": "stream",
     "text": [
      "{'v1': [1, 2, 3], 'v2': {'a': 23, 'b': [4, 5]}, 'newKey': (1, 2)}\n"
     ]
    }
   ],
   "source": [
    "d['newKey'] = (1,2)\n",
    "print(d)"
   ]
  },
  {
   "cell_type": "code",
   "execution_count": null,
   "metadata": {
    "tags": []
   },
   "outputs": [],
   "source": []
  }
 ],
 "metadata": {
  "colab": {
   "collapsed_sections": [],
   "name": "00 - 파이썬기초 복습.ipynb",
   "provenance": []
  },
  "kernelspec": {
   "display_name": "Python 3",
   "language": "python",
   "name": "python3"
  },
  "language_info": {
   "codemirror_mode": {
    "name": "ipython",
    "version": 3
   },
   "file_extension": ".py",
   "mimetype": "text/x-python",
   "name": "python",
   "nbconvert_exporter": "python",
   "pygments_lexer": "ipython3",
   "version": "3.8.8"
  }
 },
 "nbformat": 4,
 "nbformat_minor": 4
}
